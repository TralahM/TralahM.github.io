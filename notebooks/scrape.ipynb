{
 "cells": [
  {
   "cell_type": "code",
   "execution_count": 18,
   "id": "449ea7b6-df62-4dc5-8112-3770b0e750c0",
   "metadata": {},
   "outputs": [],
   "source": [
    "from bs4 import BeautifulSoup as BS\n",
    "import bs4\n",
    "import requests\n",
    "import itertools\n",
    "import pandas as pd\n",
    "import numpy as np\n",
    "import re\n",
    "import csv\n",
    "import argparse"
   ]
  },
  {
   "cell_type": "markdown",
   "id": "75f2fc3a-2c8a-4aac-b421-fea0635066c3",
   "metadata": {},
   "source": [
    "### dependencies\n",
    "* openpyxl\n",
    "* beautifulsoup4\n",
    "* pandas\n",
    "* numpy\n",
    "* requests\n",
    "* csv"
   ]
  },
  {
   "cell_type": "code",
   "execution_count": 19,
   "id": "70be0927-bad6-4e44-bd6b-6a520e0f1ae9",
   "metadata": {},
   "outputs": [],
   "source": [
    "url=\"https://www.xoserve.com/help-centre/demand-attribution/unidentified-gas-uig/chart-uig-by-gas-day/\"\n",
    "base_url=\"https://www.xoserve.com\"\n",
    "\n",
    "def scrape_and_save_to(output_file):\n",
    "    response = requests.get(url)\n",
    "    content = response.content\n",
    "    soup=BS(content,\"lxml\")\n",
    "    list_docs=soup.find(\"div\",{\"class\":\"list-documents\"})\n",
    "    if list_docs is None:\n",
    "        return\n",
    "    a_link=list_docs.find(\"a\",{\"target\":\"_blank\"})\n",
    "    if a_link is None:\n",
    "        return\n",
    "    link=a_link.attrs.get(\"href\")\n",
    "    if link is None:\n",
    "        return\n",
    "    file_link=base_url+link\n",
    "    #print(file_link)\n",
    "    df=pd.read_excel(file_link,names=[\"GasDay\",\"D_plus_1_pct\",\"D_plus_5_pct\"])\n",
    "    #df.head()\n",
    "    df.to_csv(\n",
    "        output_file,\n",
    "        encoding=\"utf-8\",\n",
    "        line_terminator=\"\\n\",\n",
    "        quotechar='\"',\n",
    "        quoting=csv.QUOTE_ALL,\n",
    "        index=False,\n",
    "    )\n",
    "    print(f\"Saved csv to {output_file}\")\n",
    "\n",
    "def main():\n",
    "    parser=argparse.ArgumentParser()\n",
    "    parser.add_argument(\"filename\",help=\"output filename\")\n",
    "    args=parser.parse_args()\n",
    "    output_file=args.filename\n",
    "    scrape_and_save_to(output_file)"
   ]
  },
  {
   "cell_type": "code",
   "execution_count": 3,
   "id": "0891355d-6951-4fbc-873a-c853aa7245b8",
   "metadata": {},
   "outputs": [],
   "source": [
    "url=\"https://www.xoserve.com/help-centre/demand-attribution/unidentified-gas-uig/chart-uig-by-gas-day/\"\n",
    "base_url=\"https://www.xoserve.com\"\n",
    "## css selector #main-content > div > div.list-documents > ul > li > a:nth-child(1)\n",
    "response = requests.get(url)\n",
    "content = response.content\n",
    "soup=BS(content,\"lxml\")"
   ]
  },
  {
   "cell_type": "code",
   "execution_count": 12,
   "id": "90c6918a-32d5-4f62-bb8e-8eacf03560ac",
   "metadata": {},
   "outputs": [
    {
     "data": {
      "text/plain": [
       "'https://www.xoserve.com/media/supb2u42/4821_national_uig_d1_vs_d5.xlsx'"
      ]
     },
     "execution_count": 12,
     "metadata": {},
     "output_type": "execute_result"
    }
   ],
   "source": [
    "list_docs=soup.find(\"div\",{\"class\":\"list-documents\"})\n",
    "a_link=list_docs.find(\"a\",{\"target\":\"_blank\"})\n",
    "link=a_link.attrs.get(\"href\")\n",
    "file_link=base_url+link\n",
    "file_link"
   ]
  },
  {
   "cell_type": "code",
   "execution_count": 16,
   "id": "be0075fb-0fe7-4f71-aaf0-687235103c4f",
   "metadata": {},
   "outputs": [
    {
     "data": {
      "text/html": [
       "<div>\n",
       "<style scoped>\n",
       "    .dataframe tbody tr th:only-of-type {\n",
       "        vertical-align: middle;\n",
       "    }\n",
       "\n",
       "    .dataframe tbody tr th {\n",
       "        vertical-align: top;\n",
       "    }\n",
       "\n",
       "    .dataframe thead th {\n",
       "        text-align: right;\n",
       "    }\n",
       "</style>\n",
       "<table border=\"1\" class=\"dataframe\">\n",
       "  <thead>\n",
       "    <tr style=\"text-align: right;\">\n",
       "      <th></th>\n",
       "      <th>GasDay</th>\n",
       "      <th>D_plus_1_pct</th>\n",
       "      <th>D_plus_5_pct</th>\n",
       "    </tr>\n",
       "  </thead>\n",
       "  <tbody>\n",
       "    <tr>\n",
       "      <th>0</th>\n",
       "      <td>2017-06-01</td>\n",
       "      <td>-0.17</td>\n",
       "      <td>0.04</td>\n",
       "    </tr>\n",
       "    <tr>\n",
       "      <th>1</th>\n",
       "      <td>2017-06-02</td>\n",
       "      <td>0.03</td>\n",
       "      <td>0.03</td>\n",
       "    </tr>\n",
       "    <tr>\n",
       "      <th>2</th>\n",
       "      <td>2017-06-03</td>\n",
       "      <td>0.07</td>\n",
       "      <td>-0.00</td>\n",
       "    </tr>\n",
       "    <tr>\n",
       "      <th>3</th>\n",
       "      <td>2017-06-04</td>\n",
       "      <td>-0.01</td>\n",
       "      <td>-0.01</td>\n",
       "    </tr>\n",
       "    <tr>\n",
       "      <th>4</th>\n",
       "      <td>2017-06-05</td>\n",
       "      <td>0.26</td>\n",
       "      <td>0.08</td>\n",
       "    </tr>\n",
       "  </tbody>\n",
       "</table>\n",
       "</div>"
      ],
      "text/plain": [
       "      GasDay  D_plus_1_pct  D_plus_5_pct\n",
       "0 2017-06-01         -0.17          0.04\n",
       "1 2017-06-02          0.03          0.03\n",
       "2 2017-06-03          0.07         -0.00\n",
       "3 2017-06-04         -0.01         -0.01\n",
       "4 2017-06-05          0.26          0.08"
      ]
     },
     "execution_count": 16,
     "metadata": {},
     "output_type": "execute_result"
    }
   ],
   "source": [
    "df=pd.read_excel(file_link,names=[\"GasDay\",\"D_plus_1_pct\",\"D_plus_5_pct\"])\n",
    "df.head()"
   ]
  },
  {
   "cell_type": "code",
   "execution_count": 23,
   "id": "701de962-39ff-46e7-bd64-29a2e23c2741",
   "metadata": {},
   "outputs": [
    {
     "data": {
      "text/plain": [
       "GasDay          datetime64[ns]\n",
       "D_plus_1_pct           float64\n",
       "D_plus_5_pct           float64\n",
       "dtype: object"
      ]
     },
     "execution_count": 23,
     "metadata": {},
     "output_type": "execute_result"
    }
   ],
   "source": [
    "df.dtypes"
   ]
  },
  {
   "cell_type": "code",
   "execution_count": 22,
   "id": "07b2ea1b-6db4-42b4-bb30-6023bbe5f80b",
   "metadata": {},
   "outputs": [],
   "source": [
    "df.to_csv(\n",
    "    \"sample.csv\",\n",
    "    encoding=\"utf-8\",\n",
    "    lineterminator=\"\\n\",\n",
    "    quotechar='\"',\n",
    "    quoting=csv.QUOTE_ALL,\n",
    "    index=False,\n",
    ")"
   ]
  },
  {
   "cell_type": "code",
   "execution_count": null,
   "id": "66f2b9a6-b617-4838-ac9e-c2f5fa656957",
   "metadata": {},
   "outputs": [],
   "source": []
  },
  {
   "cell_type": "code",
   "execution_count": null,
   "id": "1b9f9b4c-a3d0-438f-b6f8-3c3c2ec49963",
   "metadata": {},
   "outputs": [],
   "source": []
  }
 ],
 "metadata": {
  "kernelspec": {
   "display_name": "Python 3 (ipykernel)",
   "language": "python",
   "name": "python3"
  },
  "language_info": {
   "codemirror_mode": {
    "name": "ipython",
    "version": 3
   },
   "file_extension": ".py",
   "mimetype": "text/x-python",
   "name": "python",
   "nbconvert_exporter": "python",
   "pygments_lexer": "ipython3",
   "version": "3.12.5"
  }
 },
 "nbformat": 4,
 "nbformat_minor": 5
}
